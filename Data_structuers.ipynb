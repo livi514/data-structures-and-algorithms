{
 "cells": [
  {
   "cell_type": "markdown",
   "metadata": {},
   "source": [
    "## Queue"
   ]
  },
  {
   "cell_type": "markdown",
   "metadata": {},
   "source": [
    "since queues basically mean first come first out, I have tried to do something like that"
   ]
  },
  {
   "cell_type": "code",
   "execution_count": null,
   "metadata": {},
   "outputs": [],
   "source": [
    "queue = []\n",
    "\n",
    "# Add requests\n",
    "def Add_to_queue(floor, destination):\n",
    "    queue.append(floor, destination)  # Add to the end\n",
    "\n",
    "# Removinf after serving\n",
    "def Remove_from_queue():\n",
    "    if Queue_Empty():\n",
    "        return None  # Queue is empty\n",
    "    return queue.pop(0)  # Remove from the front\n",
    "\n",
    "# Check if the queue is empty\n",
    "def Queue_Empty():\n",
    "    return len(queue) == 0\n",
    "\n",
    "# See the front of queue without removing it\n",
    "def Check():\n",
    "    return None if Queue_Empty() else queue[0]\n",
    "\n",
    "# To run\n",
    "while not Queue_Empty():\n",
    "    current_floor, destination = Remove_from_queue()\n",
    "    print(f\"We have arrived at {current_floor}. The next stop is {destination}.\")"
   ]
  },
  {
   "cell_type": "markdown",
   "metadata": {},
   "source": [
    "## Priority Queues"
   ]
  },
  {
   "cell_type": "markdown",
   "metadata": {},
   "source": [
    "so like we could call some floors VIP floors? they have priority so we go to those floors first? im not sure bro"
   ]
  },
  {
   "cell_type": "code",
   "execution_count": null,
   "metadata": {},
   "outputs": [],
   "source": [
    "queue = []\n",
    "\n",
    "# Add requests\n",
    "def Add_to_queue(floor, destination, priority):\n",
    "    queue.append((priority, (floor, destination)))  # for storing ig\n",
    "    queue.sort(reverse=True) # To sort so priorities come first\n",
    "\n",
    "\n",
    "# Removinf after serving\n",
    "def Remove_from_queue():\n",
    "    if Queue_Empty():\n",
    "        return None  # Queue is empty\n",
    "    return queue.pop(0)  # Remove from the front\n",
    "\n",
    "# Check if the queue is empty\n",
    "def Queue_Empty():\n",
    "    return len(queue) == 0\n",
    "\n",
    "# See the front of queue without removing it\n",
    "def Check():\n",
    "    return None if Queue_Empty() else queue[0]\n",
    "\n",
    "# To process in priority order\n",
    "while not Queue_Empty():\n",
    "    priority, (current_floor, destination) = Remove_from_queue()\n",
    "    print(f\"Priority {priority}: Moving from Floor {current_floor} to Floor {destination}\")"
   ]
  },
  {
   "cell_type": "markdown",
   "metadata": {},
   "source": [
    "## Heaps "
   ]
  },
  {
   "cell_type": "markdown",
   "metadata": {},
   "source": [
    "With a heap, we can insert and remove the highest priority item in O(log n) time, making it much more efficient for handling a large number of requests.\n",
    " whatever this means\n",
    " \n",
    " This is supposedly a min heap _ Hacker rank on youtube, its in java but its understable"
   ]
  },
  {
   "cell_type": "code",
   "execution_count": 3,
   "metadata": {},
   "outputs": [],
   "source": [
    "heap = []\n",
    "\n",
    "# Add requests\n",
    "def Add_to_queue(floor, destination, priority):\n",
    "    heap.append((priority, (floor, destination)))  # for storing ig\n",
    "    Heapify_Up()\n",
    "\n",
    "\n",
    "# Removinf after serving\n",
    "def Remove_from_queue():\n",
    "    if Queue_Empty():\n",
    "        return None  # Queue is empty\n",
    "    priority_request = heap[0] \n",
    "    heap[0] = heap.pop() # Changing with the last request\n",
    "    Heapify_Down()\n",
    "    return priority_request\n",
    "\n",
    "# Check if the queue is empty\n",
    "def Queue_Empty():\n",
    "    return len(heap) == 0\n",
    "\n",
    "# See the front of queue without removing it\n",
    "def Check():\n",
    "    return None if Queue_Empty() else heap[0]\n",
    "\n",
    "## Run heap functions \n",
    "def Heapify_Up():\n",
    "    i = len(heap) - 1  # Start from the last element\n",
    "    while i > 0:\n",
    "        Parent = (i - 1) // 2  # Calculate the parent number\n",
    "        if heap[i][0] < heap[Parent][0]:  \n",
    "            heap[i], heap[Parent] = heap[Parent], heap[i]  # Swap if child now is < than parent\n",
    "            i = Parent  # Move up to parent\n",
    "        else:\n",
    "            break  # If current element is in the right position, exit the loop\n",
    "\n",
    "\n",
    "def Heapify_Down():\n",
    "    i = 0\n",
    "    while i < len(heap):\n",
    "        Left_Child = 2 * i + 1\n",
    "        Right_Child = 2 * i + 2\n",
    "        min = i\n",
    "        \n",
    "        # Check if left child exists and is smaller than the current node\n",
    "        if Left_Child < len(heap) and heap[Left_Child][0] < heap[min][0]:\n",
    "            min = Left_Child\n",
    "        \n",
    "        # Check if right child exists and is smaller than the current node\n",
    "        if Right_Child < len(heap) and heap[Right_Child][0] < heap[min][0]:\n",
    "            min = Right_Child\n",
    "        \n",
    "        # If smallest is not the current node, swap\n",
    "        if min != i:\n",
    "            heap[i], heap[min] = heap[min], heap[i]\n",
    "            i = min  # Move down the heap\n",
    "        else:\n",
    "            break  # Heap property is satisfied, no need to continue\n",
    "\n",
    "# To process in priority order\n",
    "while not Queue_Empty():\n",
    "    priority, (current_floor, destination) = Remove_from_queue()\n",
    "    print(f\"Priority {priority}: Moving from Floor {current_floor} to Floor {destination}\")\n"
   ]
  }
 ],
 "metadata": {
  "kernelspec": {
   "display_name": "Python 3",
   "language": "python",
   "name": "python3"
  },
  "language_info": {
   "codemirror_mode": {
    "name": "ipython",
    "version": 3
   },
   "file_extension": ".py",
   "mimetype": "text/x-python",
   "name": "python",
   "nbconvert_exporter": "python",
   "pygments_lexer": "ipython3",
   "version": "3.11.9"
  }
 },
 "nbformat": 4,
 "nbformat_minor": 2
}
